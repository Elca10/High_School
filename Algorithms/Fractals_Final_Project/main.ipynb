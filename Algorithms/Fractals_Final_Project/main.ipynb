{
 "cells": [
  {
   "attachments": {},
   "cell_type": "markdown",
   "metadata": {},
   "source": [
    "# Fractal Final Project\n",
    "*Eliška Jelinek, 2023*"
   ]
  },
  {
   "attachments": {},
   "cell_type": "markdown",
   "metadata": {},
   "source": [
    "## Introduction\n"
   ]
  },
  {
   "cell_type": "markdown",
   "metadata": {},
   "source": [
    "#### What is a Fractal?\n",
    "A fractal is a repetitive, geometric design that never ends. Not any infinite design is a fractal, however. It needs to have some aspect of *self-similarity*, which means that it contains a smaller copy of itself. \n",
    "\n",
    "For example, notice how the fern is made up of miniature ferns."
   ]
  },
  {
   "attachments": {},
   "cell_type": "markdown",
   "metadata": {},
   "source": [
    "<img src='Examples/fern_example.jpeg' height=400>"
   ]
  },
  {
   "attachments": {},
   "cell_type": "markdown",
   "metadata": {},
   "source": [
    "If a fractal is repeating the same thing over and over again, how can we know what exactly we're looking at? With each level of self-similarity, a couple things changes.\n",
    "First, the order (or depth) changes. The order is essentially how zoomed in you are. It can also be thought of as what \"level\" you're looking at. For example, the order of the very first instance of the pattern is 0, and the next level would have order = 1. \n",
    "\n",
    "With each level of depth, a couple other attributes of the structure (pattern) change: position, size, and orientation."
   ]
  },
  {
   "attachments": {},
   "cell_type": "markdown",
   "metadata": {},
   "source": [
    "#### Famous Fractals\n",
    "Fractals are all over the place, including in nature, as seen in the fern example above. When it comes to coding fractals, there are many well known ones. Perhaps the most famous of all is the *Mandelbrot Set*. Here is an interactive visual depiction of the fractal. Notice how the patterns repeat as you continue to zoom in: https://xaos-project.github.io/. \n",
    "\n",
    "Here are some other classics:\n",
    "1. Menger Sponge\n",
    "<br><br>\n",
    "<img src='Examples/dragon_example.gif' height=200>\n",
    "\n",
    "2. Harter-heighway Dragon Curve\n",
    "<br><br>\n",
    "<img src='Examples/menger_example.jpeg' height=200>"
   ]
  },
  {
   "attachments": {},
   "cell_type": "markdown",
   "metadata": {},
   "source": [
    "#### Next Up\n",
    "In this project, I'll walk through three more famous examples:\n",
    "1. Tree Canopy\n",
    "2. Sierpinski Gasket\n",
    "3. Cantor Set\n",
    "\n",
    "Each of the functions below use recursion to create the fractals. In a way, fractals and their endless self-similarity is a way of visually representing recursion. Feel free to try modifying the functions and see what happens. You can actually use the functions below to create many other fractal patterns just by changing one line or number. I'll include some examples of what you can make using similar functions at the end of this project."
   ]
  },
  {
   "attachments": {},
   "cell_type": "markdown",
   "metadata": {},
   "source": [
    "## 1: Tree Canopy"
   ]
  },
  {
   "attachments": {},
   "cell_type": "markdown",
   "metadata": {},
   "source": [
    "The fractal tree canopy (or Y tree) is one of the simplest fractals out there. While there are many variations of this fractal, the most common one is formed by splitting the end of each line into two lines (forming a Y shape). Run the code below to create your own tree canopy. \n",
    "\n",
    "As is the case with most fractals, notice how the function to create the canopy is recursive (calls itself). The recursive element is what creates the self-similarity, as it is doing the same thing repeatedly, just at smaller scales. "
   ]
  },
  {
   "cell_type": "code",
   "execution_count": 1,
   "metadata": {},
   "outputs": [],
   "source": [
    "# DEFINING THE FUNCTION\n",
    "# Parameter key\n",
    "#   - max_order: user can set a maximum fractal depth, defaults to 4\n",
    "#   - order: keeps track of depth (or the 'order' of the fractal), starts at 0\n",
    "#   - angle, x, y, and length: these vars give information about the lines to be drawn\n",
    "def canopy(max_order=4, order=0, angle=90, x=0, y=-250, length=20):\n",
    "    # BASE CASE\n",
    "    if order > max_order:\n",
    "        return \n",
    "    \n",
    "\n",
    "    # PREPARING TO DRAW LINE\n",
    "    ## Sets a starting length based on the maximum order depth\n",
    "    if order==0:\n",
    "        length = 10*max_order\n",
    "\n",
    "    ## Turtle moves to position\n",
    "    t.pu()\n",
    "    t.hideturtle()\n",
    "    t.goto(x, y)\n",
    "    t.pd()\n",
    "\n",
    "    ## Sets color (lines will become more green around the edges)\n",
    "    t.colormode(255)\n",
    "    t.pencolor((0, 255//(((max_order-order)//2)+1), 0))\n",
    "\n",
    "\n",
    "    # DRAW LINE\n",
    "    t.setheading(angle)\n",
    "    t.forward(length)\n",
    "\n",
    "\n",
    "    # RECURSIVE CALLS\n",
    "    ## Increases depth (order) by 1 and gets current turtle coords\n",
    "    order += 1\n",
    "    x = t.xcor()\n",
    "    y = t.ycor()\n",
    "\n",
    "    ## 1 recursive call for each branch (1 line --> 2 new lines (Y shape))\n",
    "    canopy(max_order, order, angle-20, x, y, length-10)\n",
    "    canopy(max_order, order, angle+20, x, y, length-10)\n",
    "\n",
    "\n",
    "# DRAWING THE TREE\n",
    "## Turtle setup and tree function call\n",
    "import turtle as t\n",
    "t.speed('fastest')\n",
    "t.hideturtle()\n",
    "canopy(10)\n",
    "\n",
    "## keeps turtle window open\n",
    "t.exitonclick()\n"
   ]
  },
  {
   "attachments": {},
   "cell_type": "markdown",
   "metadata": {},
   "source": [
    "## 2: Sierpinski Gasket (AKA Sierpinski Triangle)"
   ]
  },
  {
   "attachments": {},
   "cell_type": "markdown",
   "metadata": {},
   "source": [
    "Another famous fractal is the Sierpinski Gasket, also known as the Sierpinski Triangle. It is formed by drawing equilateral triangles inside of larger equilateral triangles. As with any coding problem, there are a couple ways of approaching it. I was particularly intrigued by how many different ways I could recursively draw the Sierpinski triangle fractal, however, so I thought I'd point a few of them out:\n",
    "\n",
    "- Draw triangles, starting at the end points of the first one (in the set of 3)\n",
    "- Draw triangles, using the midpoints of the first one\n",
    "- Remove triangles from the center of the previous one (grounded at midpoints)\n",
    "- Draw lines, recursively from the midpoints\n",
    "- <a href='https://en.wikipedia.org/wiki/Chaos_game'>Chaos game method</a>\n",
    "\n",
    "These are just a few ways of tackling this fractal. See if you can think of some other methods!"
   ]
  },
  {
   "cell_type": "code",
   "execution_count": null,
   "metadata": {},
   "outputs": [],
   "source": [
    "# DEFINING THE FUNCTION\n",
    "# Parameter key\n",
    "#   - max_order: user can set a maximum fractal depth, defaults to 4\n",
    "#   - order: keeps track of depth (or the 'order' of the fractal), starts at 0\n",
    "#   - length: controls size of triangle (side length)\n",
    "def sierpinski(max_order=4, order=0, length=200):\n",
    "    # BASE CASE\n",
    "    if order == max_order:\n",
    "        # draw triangle\n",
    "        for i in range(3):\n",
    "            t.forward(length)\n",
    "            t.left(120)\n",
    "        return \n",
    "    \n",
    "    # RECURSIVE PART\n",
    "    ## Save current coordinates\n",
    "    x,y = t.xcor(), t.ycor()\n",
    "\n",
    "    ## 1st recursive call (bottom left triangle)\n",
    "    sierpinski(max_order, order+1, length//2)\n",
    "    t.goto(x+(length//2), y)\n",
    "\n",
    "    ## 2nd recursive call (bottom right triangle)\n",
    "    sierpinski(max_order, order+1, length//2)\n",
    "    t.goto(x+(length//4), y+(((3**(1/2))/4)*length))\n",
    "\n",
    "    ## 3rd recursive call (top triangle)\n",
    "    sierpinski(max_order, order+1, length//2)\n",
    "    t.goto(x, y)\n",
    "\n",
    "\n",
    "# DRAWING THE TRIANGLE FRACTAL\n",
    "## Turtle setup and fractal function call\n",
    "import turtle as t\n",
    "t.speed('fastest')\n",
    "t.hideturtle()\n",
    "t.setheading(0)\n",
    "sierpinski()\n",
    "\n",
    "## keeps turtle window open\n",
    "t.exitonclick()"
   ]
  },
  {
   "attachments": {},
   "cell_type": "markdown",
   "metadata": {},
   "source": [
    "In the above function, I used some math to move around the fractal. If you're not a huge fan of math, you can also manually code the turtle to move forward/backward and turn left/right to get to the desired locations. However, let me briefly explain the reasoning behind the math.\n",
    "\n",
    "<img src='Examples/triangle_math.gif' height=200>\n",
    "\n",
    "My Sierpinski function above starts at the bottom left and draws the bottom left triangle first. It then moves on to drawing the bottom right triangle by going to the black dot on the bottom. That's where the length//2 comes from. Finally, the code moves on to the upper triangle. In order to draw it, the turtle first needs to go to the second black dot (the upper one). The coordinates of this starting position can also be calculated using the math shown in this diagram. \n",
    "\n",
    "\n",
    "One last note on the Sierpinski triangle - it has a fun connection to the tree canopy fractal from earlier. In fact, a version of the triangle can actually transform into a 3 pronged tree canopy. Here's a <a href='https://commons.m.wikimedia.org/wiki/File:Fractal_tree.gif'>cool animation</a>, if you're interested. (Thanks Alex Chin for sharing it!)"
   ]
  },
  {
   "attachments": {},
   "cell_type": "markdown",
   "metadata": {},
   "source": [
    "## 3: Cantor Set"
   ]
  },
  {
   "attachments": {},
   "cell_type": "markdown",
   "metadata": {},
   "source": [
    "Finally, let's take a look at the cantor set. If you like fractions, this one's for you. It starts out with a line (typically horizontal), then recursively draws the left and right thirds of the line (or, if you prefer to think in terms of negative space, it removes the middle third). If you were to follow the left most branch/path of the fractal, you'll get the sequence of fractions {1/1, 1/3, 1/9, 1/27, ...}. "
   ]
  },
  {
   "cell_type": "code",
   "execution_count": null,
   "metadata": {},
   "outputs": [],
   "source": [
    "# DEFINING THE FUNCTION\n",
    "# Parameter key\n",
    "#   - max_order: user can set a maximum fractal depth, defaults to 4\n",
    "#   - order: keeps track of depth (or the 'order' of the fractal), starts at 0\n",
    "#   - length: controls size of triangle (side length)\n",
    "def cantor(max_order=6, order=0, length=None, x=None, y=0):\n",
    "    # BASE CASE\n",
    "    if order == max_order:\n",
    "        return\n",
    "    \n",
    "    # INITIAL SETUP\n",
    "    if order == 0:\n",
    "        # if the user hasn't set a length...\n",
    "        if not length:\n",
    "            # ... change line size based on max order\n",
    "            length = max_order*80 \n",
    "        # if the user hasn't set an x coord...\n",
    "        if not x:\n",
    "            # ... use the length to horizontally center the fractal\n",
    "            x = 0-length//2 \n",
    "\n",
    "    # DRAWING THE LINE\n",
    "    ## Line setup\n",
    "    t.pu()\n",
    "    t.goto(x,y)\n",
    "    t.pd()\n",
    "    t.width((max_order-order)*2)\n",
    "    ## Draw the line\n",
    "    t.forward(length)\n",
    "\n",
    "    # RECURSIVE CALLS\n",
    "    ## Left third\n",
    "    cantor(max_order, order+1, length//3, x, y-20)\n",
    "    ## Right third\n",
    "    cantor(max_order, order+1, length//3, x+((2/3)*length), y-20)\n",
    "\n",
    "\n",
    "# DRAWING THE CANTOR SET FRACTAL\n",
    "## Turtle setup and fractal function call\n",
    "import turtle as t\n",
    "t.speed('fastest')\n",
    "t.hideturtle()\n",
    "t.setheading(0)\n",
    "cantor()\n",
    "\n",
    "## keeps turtle window open\n",
    "t.exitonclick()"
   ]
  },
  {
   "attachments": {},
   "cell_type": "markdown",
   "metadata": {},
   "source": [
    "## Conclusion"
   ]
  },
  {
   "attachments": {},
   "cell_type": "markdown",
   "metadata": {},
   "source": [
    "#### Concluding Thoughts\n",
    "Fractals, whether they're represented mathematically or visually, are fascinating to explore. And they're not just fun to play with - they're also useful. They're used in other subjects like finance, physics, and (obviously) computer graphics. They can even be used to model many natural landmarks, like mountains. Isn't it strange to think that recursion even happens in nature? I personally will never look at a fern the same way again. \n",
    "\n",
    "#### Sources\n",
    "*Coding resources and fractal info*\n",
    "- https://larryriddle.agnesscott.org/ifs/siertri/siertri.htm#:~:text=The%20Sierpinski%20gasket%20is%20formed,back%20within%20the%20original%20triangle.\n",
    "- https://stackoverflow.com/questions/25772750/sierpinski-triangle-recursion-using-turtle-graphics\n",
    "- https://web.stanford.edu/class/archive/cs/cs106b/cs106b.1208/lectures/fractals/Lecture10_Slides.pdf\n",
    "- https://fractalfoundation.org/resources/what-are-fractals/\n",
    "\n",
    "*Images*\n",
    "- https://larryriddle.agnesscott.org/ifs/heighway/heighway.htm\n",
    "- https://www.cabinetmagazine.org/issues/24/wertheim_mosely.php\n",
    "- https://silvotherapy.co.uk/articles/fractal-patterns-nature-alpha-waves"
   ]
  },
  {
   "attachments": {},
   "cell_type": "markdown",
   "metadata": {},
   "source": [
    "## Bloopers/Exploration\n"
   ]
  },
  {
   "cell_type": "markdown",
   "metadata": {},
   "source": [
    "As promised above, here are some fun fractals I accidentally made while working on the three functions above. Try creating your own!"
   ]
  },
  {
   "attachments": {},
   "cell_type": "markdown",
   "metadata": {},
   "source": [
    "<img src='Bloopers/F2.png' height='200'>\n",
    "\n",
    "<img src='Bloopers/F5.png' height='200'>\n",
    "\n",
    "<img src='Bloopers/F6.png' height='200'>\n",
    "\n",
    "<img src='Bloopers/F8.png' height='200'>\n",
    "\n",
    "<img src='Bloopers/F12.png' height='200'>\n"
   ]
  },
  {
   "attachments": {},
   "cell_type": "markdown",
   "metadata": {},
   "source": [
    "<img src='Bloopers/F16.png' height='200'>\n",
    "\n",
    "<img src='Bloopers/F18.png' height='200'>\n",
    "\n",
    "<img src='Bloopers/F20.png' height='200'>"
   ]
  },
  {
   "attachments": {},
   "cell_type": "markdown",
   "metadata": {},
   "source": [
    "## Troubleshooting Guide"
   ]
  },
  {
   "attachments": {},
   "cell_type": "markdown",
   "metadata": {},
   "source": [
    "Having trouble running the code? Try running the code files for each fractal individually (tree_canopy.py, sierpinski.py, cantor.py). If that still doesn't work, then try running each individual file from the command line (terminal/command prompt, depending on your computer). \n",
    "\n",
    "I personally had some issues with running the Python Turtle module directly in VS code, and the above solution fixed it. If you're still having issues, I'd recommend chatting with my favorite coding buddy, Google. :)"
   ]
  }
 ],
 "metadata": {
  "kernelspec": {
   "display_name": "Python 3",
   "language": "python",
   "name": "python3"
  },
  "language_info": {
   "codemirror_mode": {
    "name": "ipython",
    "version": 3
   },
   "file_extension": ".py",
   "mimetype": "text/x-python",
   "name": "python",
   "nbconvert_exporter": "python",
   "pygments_lexer": "ipython3",
   "version": "3.11.1 (v3.11.1:a7a450f84a, Dec  6 2022, 15:24:06) [Clang 13.0.0 (clang-1300.0.29.30)]"
  },
  "orig_nbformat": 4,
  "vscode": {
   "interpreter": {
    "hash": "aee8b7b246df8f9039afb4144a1f6fd8d2ca17a180786b69acc140d282b71a49"
   }
  }
 },
 "nbformat": 4,
 "nbformat_minor": 2
}
