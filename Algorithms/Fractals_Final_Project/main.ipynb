{
 "cells": [
  {
   "attachments": {},
   "cell_type": "markdown",
   "metadata": {},
   "source": [
    "# Fractal Final Project"
   ]
  },
  {
   "attachments": {},
   "cell_type": "markdown",
   "metadata": {},
   "source": [
    "## Introduction\n",
    "#### What is a Fractal?\n",
    "A fractal is a repetitive, geometric design that never ends. Not any infinite design is a fractal, however. It needs to have some aspect of *self-similarity*, which means that it contains a smaller copy of itself. \n",
    "\n",
    "For example, notice how the fern is made up of miniature ferns."
   ]
  },
  {
   "attachments": {},
   "cell_type": "markdown",
   "metadata": {},
   "source": [
    "*insert image of fern breakdown here*"
   ]
  },
  {
   "attachments": {},
   "cell_type": "markdown",
   "metadata": {},
   "source": [
    "#### Famous Fractals\n",
    "Fractals are all over the place, including in nature, as seen in the fern example above. Another famous nature example is the Nautilius shell."
   ]
  },
  {
   "attachments": {},
   "cell_type": "markdown",
   "metadata": {},
   "source": [
    "*insert nautilius shell image*"
   ]
  },
  {
   "attachments": {},
   "cell_type": "markdown",
   "metadata": {},
   "source": [
    "When it comes to coding fractals, there are many well known ones. Perhaps the most famous of all is the *Mandelbrot Set*. Here is an interactive visual depiction of the fractal. Notice how the patterns repeat as you continue to zoom in: https://xaos-project.github.io/. \n",
    "\n",
    "Here are some other classics:"
   ]
  },
  {
   "attachments": {},
   "cell_type": "markdown",
   "metadata": {},
   "source": [
    "*Menger sponge*\n",
    "*insert image here*"
   ]
  },
  {
   "attachments": {},
   "cell_type": "markdown",
   "metadata": {},
   "source": [
    "*Harter-heighway dragon curve*\n",
    "*insert image here*"
   ]
  },
  {
   "attachments": {},
   "cell_type": "markdown",
   "metadata": {},
   "source": [
    "#### Next Up\n",
    "In this project, I'll walk through three more famous examples:\n",
    "1. Tree Canopy\n",
    "2. Sierpinski Gasket\n",
    "3. Cantor Set\n",
    "\n",
    "Each of the functions below use recursion to create the fractals. In a way, fractals and their endless self-similarity is a way of visually representing recursion. Feel free to try modifying the functions and see what happens. You can actually use the functions below to create many other fractal patterns just by changing one line or number. I'll include some examples of what you can make using similar functions at the end of this project."
   ]
  },
  {
   "attachments": {},
   "cell_type": "markdown",
   "metadata": {},
   "source": [
    "## 1: Tree Canopy"
   ]
  },
  {
   "attachments": {},
   "cell_type": "markdown",
   "metadata": {},
   "source": [
    "The fractal tree canopy (or Y tree) is one of the simplest fractals out there. While there are many version of this fractal, the most common one is formed by splitting the end of each line into two lines (forming a Y shape). Run the code below to create your own tree canopy. \n",
    "\n",
    "As is the case with most fractals, notice how the function to create the canopy is recursive (calls itself). The recursive element is what creates the self-similarity, as it is doing the same thing repeatedly, just at smaller scales. "
   ]
  },
  {
   "cell_type": "code",
   "execution_count": 1,
   "metadata": {},
   "outputs": [],
   "source": [
    "# DEFINING THE FUNCTION\n",
    "# Parameter key\n",
    "#   - max_order: user can set a maximum fractal depth, defaults to 4\n",
    "#   - order: keeps track of depth (or the 'order' of the fractal), starts at 0\n",
    "#   - angle, x, y, and length: these vars give information about the lines to be drawn\n",
    "def canopy(max_order=4, order=0, angle=90, x=0, y=-250, length=20):\n",
    "    # BASE CASE\n",
    "    if order > max_order:\n",
    "        return \n",
    "    \n",
    "\n",
    "    # PREPARING TO DRAW LINE\n",
    "    ## Sets a starting length based on the maximum order depth\n",
    "    if order==0:\n",
    "        length = 10*max_order\n",
    "\n",
    "    ## Turtle moves to position\n",
    "    t.pu()\n",
    "    t.hideturtle()\n",
    "    t.goto(x, y)\n",
    "    t.pd()\n",
    "\n",
    "    ## Sets color (lines will become more green around the edges)\n",
    "    t.colormode(255)\n",
    "    t.pencolor((0, 255//(((max_order-order)//2)+1), 0))\n",
    "\n",
    "\n",
    "    # DRAW LINE\n",
    "    t.setheading(angle)\n",
    "    t.forward(length)\n",
    "\n",
    "\n",
    "    # RECURSIVE CALLS\n",
    "    ## Increases depth (order) by 1 and gets current turtle coords\n",
    "    order += 1\n",
    "    x = t.xcor()\n",
    "    y = t.ycor()\n",
    "\n",
    "    ## 1 recursive call for each branch (1 line --> 2 new lines (Y shape))\n",
    "    canopy(max_order, order, angle-20, x, y, length-10)\n",
    "    canopy(max_order, order, angle+20, x, y, length-10)\n",
    "\n",
    "\n",
    "# DRAWING THE TREE\n",
    "## Turtle setup and tree function call\n",
    "import turtle as t\n",
    "t.speed('fastest')\n",
    "t.hideturtle()\n",
    "canopy(10)\n",
    "\n",
    "## keeps turtle window open\n",
    "t.exitonclick()\n"
   ]
  },
  {
   "attachments": {},
   "cell_type": "markdown",
   "metadata": {},
   "source": [
    "## 2: Sierpinski Gasket (AKA Sierpinski Triangle)"
   ]
  },
  {
   "attachments": {},
   "cell_type": "markdown",
   "metadata": {},
   "source": [
    "Another famous fractal is the Sierpinski Gasket, also known as the Sierpinski Triangle. It is formed by drawing equilateral triangles inside of larger equilateral triangles, where the corners of the inner triangle are intersecting the midpoints of the exterior one. "
   ]
  },
  {
   "attachments": {},
   "cell_type": "markdown",
   "metadata": {},
   "source": [
    "EXPLAIN THE MATH PART, INCLUDE DIAGRAMS\n",
    "\n",
    "TALK ABOUT THE DIFFERENT METHODS, chaos, starting points, lines vs triangles, negative vs positive space.\n",
    " connection to tree canopy"
   ]
  },
  {
   "cell_type": "code",
   "execution_count": null,
   "metadata": {},
   "outputs": [],
   "source": [
    "# DEFINING THE FUNCTION\n",
    "# Parameter key\n",
    "#   - max_order: user can set a maximum fractal depth, defaults to 4\n",
    "#   - order: keeps track of depth (or the 'order' of the fractal), starts at 0\n",
    "#   - length: controls size of triangle (side length)\n",
    "def sierpinski(max_order=4, order=0, length=200):\n",
    "    # BASE CASE\n",
    "    if order == max_order:\n",
    "        # draw triangle\n",
    "        for i in range(3):\n",
    "            t.forward(length)\n",
    "            t.left(120)\n",
    "        return \n",
    "    \n",
    "    # RECURSIVE PART\n",
    "    ## Save current coordinates\n",
    "    x,y = t.xcor(), t.ycor()\n",
    "\n",
    "    ## 1st recursive call (bottom left triangle)\n",
    "    sierpinski(max_order, order+1, length//2)\n",
    "    t.goto(x+(length//2), y)\n",
    "\n",
    "    ## 2nd recursive call (bottom right triangle)\n",
    "    sierpinski(max_order, order+1, length//2)\n",
    "    t.goto(x+(length//4), y+(((3**(1/2))/4)*length))\n",
    "\n",
    "    ## 3rd recursive call (top triangle)\n",
    "    sierpinski(max_order, order+1, length//2)\n",
    "    t.goto(x, y)\n",
    "\n",
    "\n",
    "# DRAWING THE TRIANGLE FRACTAL\n",
    "## Turtle setup and fractal function call\n",
    "import turtle as t\n",
    "t.speed('fastest')\n",
    "t.hideturtle()\n",
    "t.setheading(0)\n",
    "sierpinski()\n",
    "\n",
    "## keeps turtle window open\n",
    "t.exitonclick()"
   ]
  },
  {
   "attachments": {},
   "cell_type": "markdown",
   "metadata": {},
   "source": [
    "## 3: Cantor Set"
   ]
  },
  {
   "attachments": {},
   "cell_type": "markdown",
   "metadata": {},
   "source": [
    "EXPLAIN HOW CANTOR SET WORKS"
   ]
  },
  {
   "cell_type": "code",
   "execution_count": null,
   "metadata": {},
   "outputs": [],
   "source": [
    "# DEFINING THE FUNCTION\n",
    "# Parameter key\n",
    "#   - max_order: user can set a maximum fractal depth, defaults to 4\n",
    "#   - order: keeps track of depth (or the 'order' of the fractal), starts at 0\n",
    "#   - length: controls size of triangle (side length)\n",
    "def cantor(max_order=6, order=0, length=None, x=None, y=0):\n",
    "    # BASE CASE\n",
    "    if order == max_order:\n",
    "        return\n",
    "    \n",
    "    # INITIAL SETUP\n",
    "    if order == 0:\n",
    "        # if the user hasn't set a length...\n",
    "        if not length:\n",
    "            # ... change line size based on max order\n",
    "            length = max_order*80 \n",
    "        # if the user hasn't set an x coord...\n",
    "        if not x:\n",
    "            # ... use the length to horizontally center the fractal\n",
    "            x = 0-length//2 \n",
    "\n",
    "    # DRAWING THE LINE\n",
    "    ## Line setup\n",
    "    t.pu()\n",
    "    t.goto(x,y)\n",
    "    t.pd()\n",
    "    t.width((max_order-order)*2)\n",
    "    ## Draw the line\n",
    "    t.forward(length)\n",
    "\n",
    "    # RECURSIVE CALLS\n",
    "    ## Left third\n",
    "    cantor(max_order, order+1, length//3, x, y-20)\n",
    "    ## Right third\n",
    "    cantor(max_order, order+1, length//3, x+((2/3)*length), y-20)\n",
    "\n",
    "\n",
    "# DRAWING THE CANTOR SET FRACTAL\n",
    "## Turtle setup and fractal function call\n",
    "import turtle as t\n",
    "t.speed('fastest')\n",
    "t.hideturtle()\n",
    "t.setheading(0)\n",
    "cantor()\n",
    "\n",
    "## keeps turtle window open\n",
    "t.exitonclick()"
   ]
  },
  {
   "attachments": {},
   "cell_type": "markdown",
   "metadata": {},
   "source": [
    "## Conclusion"
   ]
  },
  {
   "attachments": {},
   "cell_type": "markdown",
   "metadata": {},
   "source": [
    "#### Concluding Thoughts\n",
    "\n",
    "\n",
    "#### Review\n",
    "\n",
    "\n",
    "#### Sources"
   ]
  },
  {
   "attachments": {},
   "cell_type": "markdown",
   "metadata": {},
   "source": [
    "## Bloopers/Exploration\n",
    "As promised above, here are some fun fractals I accidentally made while working on the three functions above. Try creating your own!"
   ]
  },
  {
   "attachments": {},
   "cell_type": "markdown",
   "metadata": {},
   "source": [
    "![Alt text](Bloopers/F2.png)\n",
    "\n",
    "\n",
    "![Alt text](Bloopers/F5.png)\n",
    "\n",
    "\n",
    "![Alt text](Bloopers/F6.png)\n",
    "\n",
    "\n",
    "![Alt text](Bloopers/F8.png)\n",
    "\n",
    "\n",
    "![Alt text](Bloopers/F12.png)\n",
    "\n",
    "\n",
    "![Alt text](Bloopers/F16.png)\n",
    "\n",
    "\n",
    "![Alt text](Bloopers/F18.png)\n",
    "\n",
    "\n",
    "![Alt text](Bloopers/F20.png)"
   ]
  },
  {
   "attachments": {},
   "cell_type": "markdown",
   "metadata": {},
   "source": [
    "<img src='/Users/eliskaj/Documents/GitHub/School_22-23/Algorithms/Fractals_Final_Project/Bloopers/F2.png' width='300'>\n",
    "\n",
    "<img src='/Users/eliskaj/Documents/GitHub/School_22-23/Algorithms/Fractals_Final_Project/Bloopers/F5.png' width='300'>\n",
    "\n",
    "<img src='/Users/eliskaj/Documents/GitHub/School_22-23/Algorithms/Fractals_Final_Project/Bloopers/F6.png' width='300'>\n",
    "\n",
    "<img src='/Users/eliskaj/Documents/GitHub/School_22-23/Algorithms/Fractals_Final_Project/Bloopers/F.png' width='300'>\n",
    "\n",
    "<img src='/Users/eliskaj/Documents/GitHub/School_22-23/Algorithms/Fractals_Final_Project/Bloopers/F5.png' width='300'>\n",
    "\n",
    "<img src='/Users/eliskaj/Documents/GitHub/School_22-23/Algorithms/Fractals_Final_Project/Bloopers/F5.png' width='300'>\n",
    "\n",
    "<img src='/Users/eliskaj/Documents/GitHub/School_22-23/Algorithms/Fractals_Final_Project/Bloopers/F5.png' width='300'>\n",
    "\n",
    "<img src='/Users/eliskaj/Documents/GitHub/School_22-23/Algorithms/Fractals_Final_Project/Bloopers/F5.png' width='300'>\n"
   ]
  },
  {
   "cell_type": "markdown",
   "metadata": {},
   "source": []
  }
 ],
 "metadata": {
  "kernelspec": {
   "display_name": "Python 3",
   "language": "python",
   "name": "python3"
  },
  "language_info": {
   "codemirror_mode": {
    "name": "ipython",
    "version": 3
   },
   "file_extension": ".py",
   "mimetype": "text/x-python",
   "name": "python",
   "nbconvert_exporter": "python",
   "pygments_lexer": "ipython3",
   "version": "3.9.6 (default, Oct 18 2022, 12:41:40) \n[Clang 14.0.0 (clang-1400.0.29.202)]"
  },
  "orig_nbformat": 4,
  "vscode": {
   "interpreter": {
    "hash": "8a5edab282632443219e051e4ade2d1d5bbc671c781051bf1437897cbdfea0f1"
   }
  }
 },
 "nbformat": 4,
 "nbformat_minor": 2
}
